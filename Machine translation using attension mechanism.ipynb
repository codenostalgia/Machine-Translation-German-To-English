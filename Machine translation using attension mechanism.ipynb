{
 "cells": [
  {
   "cell_type": "code",
   "execution_count": 147,
   "metadata": {},
   "outputs": [],
   "source": [
    "from pickle import load\n",
    "import keras\n",
    "from numpy import array\n",
    "from keras.preprocessing.text import Tokenizer\n",
    "from keras.preprocessing.sequence import pad_sequences\n",
    "from keras.utils import to_categorical\n",
    "from keras.utils.vis_utils import plot_model\n",
    "from keras.models import Sequential\n",
    "from keras.layers import LSTM\n",
    "from keras.layers import Dense\n",
    "from keras.layers import Embedding\n",
    "from keras.layers import RepeatVector\n",
    "from keras.layers import TimeDistributed\n",
    "from keras.callbacks import ModelCheckpoint\n",
    "from keras.models import load_model\n",
    "from random import *\n",
    "import numpy as np\n",
    "from numpy import argmax\n",
    "import pydot\n",
    "import matplotlib.pyplot as plt\n",
    "from sklearn.preprocessing import OneHotEncoder"
   ]
  },
  {
   "cell_type": "code",
   "execution_count": 148,
   "metadata": {},
   "outputs": [],
   "source": [
    "from keras.layers import Bidirectional, Concatenate, Permute, Dot, Input, LSTM, Multiply\n",
    "from keras.layers import RepeatVector, Dense, Activation, Lambda\n",
    "from keras.optimizers import Adam\n",
    "from keras.utils import to_categorical\n",
    "from keras.models import load_model, Model\n",
    "import keras.backend as K\n",
    "import numpy as np\n",
    "from faker import Faker\n",
    "import random\n",
    "from tqdm import tqdm\n",
    "from babel.dates import format_date\n",
    "import matplotlib.pyplot as plt\n",
    "%matplotlib inline"
   ]
  },
  {
   "cell_type": "code",
   "execution_count": 149,
   "metadata": {},
   "outputs": [],
   "source": [
    "# Defined shared layers as global variables\n",
    "repeator = RepeatVector(ger_length)\n",
    "concatenator = Concatenate(axis=-1)\n",
    "densor1 = Dense(10, activation = \"tanh\")\n",
    "densor2 = Dense(1, activation = \"relu\")\n",
    "activator = Activation(softmax, name='attention_weights')\n",
    "dotor = Dot(axes = 1)"
   ]
  },
  {
   "cell_type": "code",
   "execution_count": 150,
   "metadata": {},
   "outputs": [],
   "source": [
    "# load a clean dataset\n",
    "def load_clean_sentences(filename):\n",
    "    return load(open(filename, 'rb'))\n",
    " \n",
    "# fit a tokenizer\n",
    "def create_tokenizer(lines):\n",
    "    tokenizer = Tokenizer()\n",
    "    tokenizer.fit_on_texts(lines)\n",
    "    return tokenizer\n",
    " \n",
    "# max sentence length\n",
    "def max_length(lines):\n",
    "    return max(len(line.split()) for line in lines)\n",
    " \n",
    "# encode and pad sequences\n",
    "def encode_sequences(tokenizer, length, lines):\n",
    "    \n",
    "    # integer encode sequences\n",
    "    X = tokenizer.texts_to_sequences(lines)\n",
    "    \n",
    "    # pad sequences with 0 values\n",
    "    X = pad_sequences(X, maxlen=length, padding='post')\n",
    "    return X\n",
    "\n",
    "# one hot encode target sequence\n",
    "def encode_output(sequences, vocab_size):\n",
    "    \n",
    "    ylist = list()\n",
    "    for sequence in sequences:\n",
    "        encoded = to_categorical(sequence, num_classes=vocab_size)\n",
    "        ylist.append(encoded)\n",
    "    y = array(ylist)\n",
    "    y = y.reshape(sequences.shape[0], sequences.shape[1], vocab_size)\n",
    "    return y\n",
    "\n",
    "# map an integer to a word\n",
    "def word_for_id(integer, tokenizer):\n",
    "    for word, index in tokenizer.word_index.items():\n",
    "        if index == integer:\n",
    "            return word\n",
    "    return None\n",
    "\n",
    "# generate target given source sequence\n",
    "def predict_sequence(model, tokenizer, source):\n",
    "    \n",
    "    sentences= []\n",
    "    \n",
    "    for i in range(len(source)):\n",
    "\n",
    "        prediction = model.predict(source, verbose=0)[i]\n",
    "        integers = [argmax(vector) for vector in prediction]\n",
    "        target = list()\n",
    "        for i in integers:\n",
    "            word = word_for_id(i, tokenizer)\n",
    "            if word is None:\n",
    "                break\n",
    "            target.append(word)\n",
    "        sentence= ' '.join(target)\n",
    "        sentences.append(sentence)\n",
    "        \n",
    "    return sentences\n",
    "\n",
    "\n",
    "# Softmax activation function.\n",
    "def softmax(x, axis=1):\n",
    "    \n",
    "# Arguments -\n",
    "# x : Tensor.\n",
    "# axis: Integer, axis along which the softmax normalization is applied.\n",
    "\n",
    "# Returns-\n",
    "# Tensor, output of softmax transformation.\n",
    "\n",
    "# Raises-\n",
    "# ValueError: In case `dim(x) == 1`.\n",
    "\n",
    "    ndim = K.ndim(x)\n",
    "    if ndim == 2:\n",
    "        return K.softmax(x)\n",
    "    elif ndim > 2:\n",
    "        e = K.exp(x - K.max(x, axis=axis, keepdims=True))\n",
    "        s = K.sum(e, axis=axis, keepdims=True)\n",
    "        return e / s\n",
    "    else:\n",
    "        raise ValueError('Cannot apply softmax to a tensor that is 1D')\n",
    "        \n",
    " "
   ]
  },
  {
   "cell_type": "code",
   "execution_count": 151,
   "metadata": {},
   "outputs": [],
   "source": [
    "# load datasets\n",
    "\n",
    "# train has 9000 examples and test has 1000 examples\n",
    "train = load_clean_sentences('E:\\Machine translation project\\Train_data.pkl')\n",
    "test = load_clean_sentences('E:\\Machine translation project\\Test_data.pkl')\n",
    "dataset = train +test\n",
    "\n",
    "#Shuffling dataset as the sentences present in test data are larger in size\n",
    "shuffle(dataset)\n",
    "dataset = np.array(dataset)\n",
    "\n",
    "# train on 9000 examples\n",
    "train= dataset[:9000,:]\n",
    "\n",
    "#test on remaining  1000 examples\n",
    "test = dataset[9000:,:]"
   ]
  },
  {
   "cell_type": "code",
   "execution_count": 152,
   "metadata": {},
   "outputs": [
    {
     "name": "stdout",
     "output_type": "stream",
     "text": [
      "English Vocabulary Size: 2214\n",
      "English Max Length: 5\n",
      "German Vocabulary Size: 3526\n",
      "German Max Length: 9\n",
      "(9000, 9, 3526)\n",
      "(9000, 5, 2214)\n",
      "(1000, 9, 3526)\n",
      "(1000, 5, 2214)\n"
     ]
    }
   ],
   "source": [
    "# prepare english tokenizer\n",
    "eng_tokenizer = create_tokenizer(dataset[:, 0])\n",
    "eng_vocab_size = len(eng_tokenizer.word_index) + 1\n",
    "eng_length = max_length(dataset[:, 0])\n",
    "print('English Vocabulary Size: %d' % eng_vocab_size)\n",
    "print('English Max Length: %d' % (eng_length))\n",
    "\n",
    "# prepare german tokenizer\n",
    "ger_tokenizer = create_tokenizer(dataset[:, 1])\n",
    "ger_vocab_size = len(ger_tokenizer.word_index) + 1\n",
    "ger_length = max_length(dataset[:, 1])\n",
    "print('German Vocabulary Size: %d' % ger_vocab_size)\n",
    "print('German Max Length: %d' % (ger_length))\n",
    "\n",
    "# prepare training data\n",
    "trainX = encode_sequences(ger_tokenizer, ger_length, train[:, 1])\n",
    "Xoh_train = encode_output(trainX, ger_vocab_size)\n",
    "print(Xoh_train.shape)\n",
    "\n",
    "trainY = encode_sequences(eng_tokenizer, eng_length, train[:, 0])\n",
    "Yoh_train = encode_output(trainY, eng_vocab_size)\n",
    "print(Yoh_train.shape)\n",
    "\n",
    "\n",
    "# prepare testing data\n",
    "testX = encode_sequences(ger_tokenizer, ger_length, test[:, 1])\n",
    "Xoh_test = encode_output(testX, ger_vocab_size)\n",
    "print(Xoh_test.shape)\n",
    "\n",
    "testY = encode_sequences(eng_tokenizer, eng_length, test[:, 0])\n",
    "Yoh_test = encode_output(testY, eng_vocab_size)\n",
    "print(Yoh_test.shape)\n"
   ]
  },
  {
   "cell_type": "code",
   "execution_count": 153,
   "metadata": {},
   "outputs": [],
   "source": [
    "# The following function Performs one step of attention: Outputs a context vector computed as a dot product of the attention weights\n",
    "# \"alphas\" and the hidden states \"a\" of the Bi-LSTM.\n",
    "    \n",
    "# Input Arguments:\n",
    "# a -- hidden state output of the Bi-LSTM, numpy-array of shape (m, Tx, 2*n_a)\n",
    "# s_prev -- previous hidden state of the (post-attention) LSTM, numpy-array of shape (m, n_s)\n",
    "    \n",
    "# Returns:\n",
    "# context -- context vector, input of the next (post-attention) LSTM cell\n",
    "\n",
    "def one_step_attention(a, s_prev):\n",
    "\n",
    "\n",
    "    s_prev = repeator(s_prev)\n",
    "    concat = concatenator([a,s_prev])\n",
    "    e = densor1(concat)\n",
    "   \n",
    "    energies = densor2(e)\n",
    "   \n",
    "    alphas = activator(energies)\n",
    "    \n",
    "    context = dotor([alphas,a])\n",
    "    \n",
    "    return context"
   ]
  },
  {
   "cell_type": "code",
   "execution_count": 154,
   "metadata": {},
   "outputs": [],
   "source": [
    "n_a = 32 # number of units for the pre-attention, bi-directional LSTM's hidden state 'a'\n",
    "n_s = 64 # number of units for the post-attention LSTM's hidden state \"s\"\n",
    "\n",
    "#  post attention LSTM cell.  \n",
    "post_activation_LSTM_cell = LSTM(n_s, return_state = True) # post-attention LSTM \n",
    "output_layer = Dense( eng_vocab_size, activation=softmax )"
   ]
  },
  {
   "cell_type": "code",
   "execution_count": 59,
   "metadata": {},
   "outputs": [],
   "source": [
    "# The following function buids the model using the required layers.\n",
    "\n",
    "# Input Arguments:\n",
    "# Tx --                 length of the input sequence\n",
    "# Ty --                 length of the output sequence\n",
    "# n_a --                hidden state size of the Bi-LSTM\n",
    "# n_s --                hidden state size of the post-attention LSTM\n",
    "\n",
    "# human_vocab_size --   size of the python dictionary \"human_vocab\"\n",
    "# machine_vocab_size -- size of the python dictionary \"machine_vocab\"\n",
    "\n",
    "# Returns:\n",
    "# model -- Keras model instance\n",
    "    \n",
    "\n",
    "def model( src_vocab, tar_vocab, src_timesteps, tar_timesteps, n_a , n_s):\n",
    "    \n",
    "\n",
    "    X = Input(shape=(src_timesteps , src_vocab))\n",
    "    s0 = Input(shape=(n_s,), name='s0')\n",
    "    c0 = Input(shape=(n_s,), name='c0')\n",
    "    s = s0\n",
    "    c = c0\n",
    "\n",
    "    outputs = []\n",
    "\n",
    "    a = Bidirectional(LSTM(units=n_a, return_sequences=True))(X)\n",
    "    \n",
    "    for t in range(tar_timesteps):\n",
    "    \n",
    "        context = one_step_attention(a,s)\n",
    "        s, _, c = post_activation_LSTM_cell(context,initial_state=[s,c])\n",
    "        \n",
    "        out =output_layer(s)\n",
    "    \n",
    "        outputs.append(out)\n",
    "    \n",
    "    model = Model(inputs=[X,s0,c0] , outputs=outputs)\n",
    "    \n",
    "    return model"
   ]
  },
  {
   "cell_type": "code",
   "execution_count": 60,
   "metadata": {},
   "outputs": [],
   "source": [
    "model = model(ger_vocab_size, eng_vocab_size, ger_length, eng_length, 32,64)"
   ]
  },
  {
   "cell_type": "code",
   "execution_count": 68,
   "metadata": {},
   "outputs": [
    {
     "name": "stdout",
     "output_type": "stream",
     "text": [
      "__________________________________________________________________________________________________\n",
      "Layer (type)                    Output Shape         Param #     Connected to                     \n",
      "==================================================================================================\n",
      "input_9 (InputLayer)            (None, 9, 3526)      0                                            \n",
      "__________________________________________________________________________________________________\n",
      "s0 (InputLayer)                 (None, 64)           0                                            \n",
      "__________________________________________________________________________________________________\n",
      "bidirectional_9 (Bidirectional) (None, 9, 64)        911104      input_9[0][0]                    \n",
      "__________________________________________________________________________________________________\n",
      "repeat_vector_1 (RepeatVector)  (None, 9, 64)        0           s0[0][0]                         \n",
      "                                                                 lstm_5[20][0]                    \n",
      "                                                                 lstm_5[21][0]                    \n",
      "                                                                 lstm_5[22][0]                    \n",
      "                                                                 lstm_5[23][0]                    \n",
      "__________________________________________________________________________________________________\n",
      "concatenate_1 (Concatenate)     (None, 9, 128)       0           bidirectional_9[0][0]            \n",
      "                                                                 repeat_vector_1[25][0]           \n",
      "                                                                 bidirectional_9[0][0]            \n",
      "                                                                 repeat_vector_1[26][0]           \n",
      "                                                                 bidirectional_9[0][0]            \n",
      "                                                                 repeat_vector_1[27][0]           \n",
      "                                                                 bidirectional_9[0][0]            \n",
      "                                                                 repeat_vector_1[28][0]           \n",
      "                                                                 bidirectional_9[0][0]            \n",
      "                                                                 repeat_vector_1[29][0]           \n",
      "__________________________________________________________________________________________________\n",
      "dense_2 (Dense)                 (None, 9, 10)        1290        concatenate_1[25][0]             \n",
      "                                                                 concatenate_1[26][0]             \n",
      "                                                                 concatenate_1[27][0]             \n",
      "                                                                 concatenate_1[28][0]             \n",
      "                                                                 concatenate_1[29][0]             \n",
      "__________________________________________________________________________________________________\n",
      "dense_3 (Dense)                 (None, 9, 1)         11          dense_2[25][0]                   \n",
      "                                                                 dense_2[26][0]                   \n",
      "                                                                 dense_2[27][0]                   \n",
      "                                                                 dense_2[28][0]                   \n",
      "                                                                 dense_2[29][0]                   \n",
      "__________________________________________________________________________________________________\n",
      "attention_weights (Activation)  (None, 9, 1)         0           dense_3[25][0]                   \n",
      "                                                                 dense_3[26][0]                   \n",
      "                                                                 dense_3[27][0]                   \n",
      "                                                                 dense_3[28][0]                   \n",
      "                                                                 dense_3[29][0]                   \n",
      "__________________________________________________________________________________________________\n",
      "dot_1 (Dot)                     (None, 1, 64)        0           attention_weights[25][0]         \n",
      "                                                                 bidirectional_9[0][0]            \n",
      "                                                                 attention_weights[26][0]         \n",
      "                                                                 bidirectional_9[0][0]            \n",
      "                                                                 attention_weights[27][0]         \n",
      "                                                                 bidirectional_9[0][0]            \n",
      "                                                                 attention_weights[28][0]         \n",
      "                                                                 bidirectional_9[0][0]            \n",
      "                                                                 attention_weights[29][0]         \n",
      "                                                                 bidirectional_9[0][0]            \n",
      "__________________________________________________________________________________________________\n",
      "c0 (InputLayer)                 (None, 64)           0                                            \n",
      "__________________________________________________________________________________________________\n",
      "lstm_5 (LSTM)                   [(None, 64), (None,  33024       dot_1[25][0]                     \n",
      "                                                                 s0[0][0]                         \n",
      "                                                                 c0[0][0]                         \n",
      "                                                                 dot_1[26][0]                     \n",
      "                                                                 lstm_5[20][0]                    \n",
      "                                                                 lstm_5[20][2]                    \n",
      "                                                                 dot_1[27][0]                     \n",
      "                                                                 lstm_5[21][0]                    \n",
      "                                                                 lstm_5[21][2]                    \n",
      "                                                                 dot_1[28][0]                     \n",
      "                                                                 lstm_5[22][0]                    \n",
      "                                                                 lstm_5[22][2]                    \n",
      "                                                                 dot_1[29][0]                     \n",
      "                                                                 lstm_5[23][0]                    \n",
      "                                                                 lstm_5[23][2]                    \n",
      "__________________________________________________________________________________________________\n",
      "dense_5 (Dense)                 (None, 2214)         143910      lstm_5[20][0]                    \n",
      "                                                                 lstm_5[21][0]                    \n",
      "                                                                 lstm_5[22][0]                    \n",
      "                                                                 lstm_5[23][0]                    \n",
      "                                                                 lstm_5[24][0]                    \n",
      "==================================================================================================\n",
      "Total params: 1,089,339\n",
      "Trainable params: 1,089,339\n",
      "Non-trainable params: 0\n",
      "__________________________________________________________________________________________________\n",
      "None\n"
     ]
    }
   ],
   "source": [
    "adam = Adam(lr=0.1)\n",
    "model.compile(optimizer=adam, loss='categorical_crossentropy')\n",
    "print(model.summary())\n"
   ]
  },
  {
   "cell_type": "code",
   "execution_count": 69,
   "metadata": {},
   "outputs": [],
   "source": [
    "s0 = np.zeros((9000, n_s))\n",
    "c0 = np.zeros((9000, n_s))\n",
    "outputs = list(Yoh_train.swapaxes(0,1))"
   ]
  },
  {
   "cell_type": "code",
   "execution_count": 70,
   "metadata": {},
   "outputs": [
    {
     "name": "stdout",
     "output_type": "stream",
     "text": [
      "Epoch 1/50\n",
      "9000/9000 [==============================] - 13s 1ms/step - loss: 21.3591 - dense_5_loss: 0.4104\n",
      "Epoch 2/50\n",
      "9000/9000 [==============================] - 7s 735us/step - loss: 18.6681 - dense_5_loss: 0.0184\n",
      "Epoch 3/50\n",
      "9000/9000 [==============================] - 7s 729us/step - loss: 18.2446 - dense_5_loss: 0.0387\n",
      "Epoch 4/50\n",
      "9000/9000 [==============================] - 7s 742us/step - loss: 15.3955 - dense_5_loss: 0.0240\n",
      "Epoch 5/50\n",
      "9000/9000 [==============================] - 7s 737us/step - loss: 13.6616 - dense_5_loss: 0.0190\n",
      "Epoch 6/50\n",
      "9000/9000 [==============================] - 7s 744us/step - loss: 12.6987 - dense_5_loss: 0.0093\n",
      "Epoch 7/50\n",
      "9000/9000 [==============================] - 7s 741us/step - loss: 11.9074 - dense_5_loss: 0.0126\n",
      "Epoch 8/50\n",
      "9000/9000 [==============================] - 7s 731us/step - loss: 11.3586 - dense_5_loss: 0.0119\n",
      "Epoch 9/50\n",
      "9000/9000 [==============================] - 7s 733us/step - loss: 10.8713 - dense_5_loss: 0.0096\n",
      "Epoch 10/50\n",
      "9000/9000 [==============================] - 7s 735us/step - loss: 10.7119 - dense_5_loss: 0.0103\n",
      "Epoch 11/50\n",
      "9000/9000 [==============================] - 7s 724us/step - loss: 10.3656 - dense_5_loss: 0.0086\n",
      "Epoch 12/50\n",
      "9000/9000 [==============================] - 7s 729us/step - loss: 10.0247 - dense_5_loss: 0.0093\n",
      "Epoch 13/50\n",
      "9000/9000 [==============================] - 7s 725us/step - loss: 9.7568 - dense_5_loss: 0.0071\n",
      "Epoch 14/50\n",
      "9000/9000 [==============================] - 7s 732us/step - loss: 9.4774 - dense_5_loss: 0.0071\n",
      "Epoch 15/50\n",
      "9000/9000 [==============================] - 7s 725us/step - loss: 9.0462 - dense_5_loss: 0.0062\n",
      "Epoch 16/50\n",
      "9000/9000 [==============================] - 7s 726us/step - loss: 8.8862 - dense_5_loss: 0.0079\n",
      "Epoch 17/50\n",
      "9000/9000 [==============================] - 7s 725us/step - loss: 8.6167 - dense_5_loss: 0.0069\n",
      "Epoch 18/50\n",
      "9000/9000 [==============================] - 7s 736us/step - loss: 8.3590 - dense_5_loss: 0.0066\n",
      "Epoch 19/50\n",
      "9000/9000 [==============================] - 6s 721us/step - loss: 8.0959 - dense_5_loss: 0.0075\n",
      "Epoch 20/50\n",
      "9000/9000 [==============================] - 6s 716us/step - loss: 7.8443 - dense_5_loss: 0.0048\n",
      "Epoch 21/50\n",
      "9000/9000 [==============================] - 6s 720us/step - loss: 7.7638 - dense_5_loss: 0.0063\n",
      "Epoch 22/50\n",
      "9000/9000 [==============================] - 7s 767us/step - loss: 7.6805 - dense_5_loss: 0.00600s - loss: 7.6624 - dense_5_loss\n",
      "Epoch 23/50\n",
      "9000/9000 [==============================] - 7s 793us/step - loss: 7.5401 - dense_5_loss: 0.0059\n",
      "Epoch 24/50\n",
      "9000/9000 [==============================] - 7s 745us/step - loss: 7.4068 - dense_5_loss: 0.0063\n",
      "Epoch 25/50\n",
      "9000/9000 [==============================] - 7s 780us/step - loss: 7.2763 - dense_5_loss: 0.0052\n",
      "Epoch 26/50\n",
      "9000/9000 [==============================] - 6s 722us/step - loss: 7.2322 - dense_5_loss: 0.0050\n",
      "Epoch 27/50\n",
      "9000/9000 [==============================] - 6s 721us/step - loss: 7.1536 - dense_5_loss: 0.0058\n",
      "Epoch 28/50\n",
      "9000/9000 [==============================] - 7s 725us/step - loss: 7.3366 - dense_5_loss: 0.0065\n",
      "Epoch 29/50\n",
      "9000/9000 [==============================] - 7s 723us/step - loss: 6.9999 - dense_5_loss: 0.0046\n",
      "Epoch 30/50\n",
      "9000/9000 [==============================] - 7s 728us/step - loss: 6.9085 - dense_5_loss: 0.0057\n",
      "Epoch 31/50\n",
      "9000/9000 [==============================] - 7s 732us/step - loss: 6.7519 - dense_5_loss: 0.0069\n",
      "Epoch 32/50\n",
      "9000/9000 [==============================] - 7s 730us/step - loss: 6.6838 - dense_5_loss: 0.0059\n",
      "Epoch 33/50\n",
      "9000/9000 [==============================] - 7s 735us/step - loss: 6.5651 - dense_5_loss: 0.0070\n",
      "Epoch 34/50\n",
      "9000/9000 [==============================] - 6s 718us/step - loss: 6.3725 - dense_5_loss: 0.0063\n",
      "Epoch 35/50\n",
      "9000/9000 [==============================] - 7s 727us/step - loss: 6.3399 - dense_5_loss: 0.0045\n",
      "Epoch 36/50\n",
      "9000/9000 [==============================] - 6s 719us/step - loss: 7.3785 - dense_5_loss: 0.0130\n",
      "Epoch 37/50\n",
      "9000/9000 [==============================] - 6s 722us/step - loss: 6.7379 - dense_5_loss: 0.0074\n",
      "Epoch 38/50\n",
      "9000/9000 [==============================] - 7s 723us/step - loss: 6.4172 - dense_5_loss: 0.0055\n",
      "Epoch 39/50\n",
      "9000/9000 [==============================] - 7s 731us/step - loss: 6.2450 - dense_5_loss: 0.0046\n",
      "Epoch 40/50\n",
      "9000/9000 [==============================] - 6s 720us/step - loss: 6.1016 - dense_5_loss: 0.0044\n",
      "Epoch 41/50\n",
      "9000/9000 [==============================] - 6s 717us/step - loss: 6.0502 - dense_5_loss: 0.0069\n",
      "Epoch 42/50\n",
      "9000/9000 [==============================] - 7s 725us/step - loss: 5.8962 - dense_5_loss: 0.0055\n",
      "Epoch 43/50\n",
      "9000/9000 [==============================] - 7s 725us/step - loss: 5.8152 - dense_5_loss: 0.0051\n",
      "Epoch 44/50\n",
      "9000/9000 [==============================] - 7s 787us/step - loss: 5.7565 - dense_5_loss: 0.0046\n",
      "Epoch 45/50\n",
      "9000/9000 [==============================] - 7s 757us/step - loss: 5.6336 - dense_5_loss: 0.0051\n",
      "Epoch 46/50\n",
      "9000/9000 [==============================] - 7s 768us/step - loss: 5.5362 - dense_5_loss: 0.0049\n",
      "Epoch 47/50\n",
      "9000/9000 [==============================] - 7s 812us/step - loss: 5.5514 - dense_5_loss: 0.0059\n",
      "Epoch 48/50\n",
      "9000/9000 [==============================] - 6s 714us/step - loss: 5.6459 - dense_5_loss: 0.0064\n",
      "Epoch 49/50\n",
      "9000/9000 [==============================] - 7s 728us/step - loss: 5.5722 - dense_5_loss: 0.0062\n",
      "Epoch 50/50\n",
      "9000/9000 [==============================] - 7s 733us/step - loss: 5.6139 - dense_5_loss: 0.0068\n"
     ]
    }
   ],
   "source": [
    "history = model.fit([Xoh_train, s0, c0], outputs, epochs=50 , batch_size=100)"
   ]
  },
  {
   "cell_type": "code",
   "execution_count": 71,
   "metadata": {},
   "outputs": [
    {
     "data": {
      "text/plain": [
       "[<matplotlib.lines.Line2D at 0x1ce29f869b0>]"
      ]
     },
     "execution_count": 71,
     "metadata": {},
     "output_type": "execute_result"
    },
    {
     "data": {
      "image/png": "[encoded data removed]",
      "text/plain": [
       "<Figure size 432x288 with 1 Axes>"
      ]
     },
     "metadata": {
      "needs_background": "light"
     },
     "output_type": "display_data"
    }
   ],
   "source": [
    "#plotting learning curve\n",
    "plt.plot(history.history['loss'])"
   ]
  },
  {
   "cell_type": "code",
   "execution_count": null,
   "metadata": {},
   "outputs": [],
   "source": []
  },
  {
   "cell_type": "code",
   "execution_count": 186,
   "metadata": {},
   "outputs": [
    {
     "data": {
      "text/plain": [
       "array([[62,  0,  0,  0,  0,  0,  0,  0,  0]])"
      ]
     },
     "execution_count": 186,
     "metadata": {},
     "output_type": "execute_result"
    }
   ],
   "source": [
    "# predicting output over an input.\n",
    "\n",
    "a = encode_sequences(ger_tokenizer, ger_length, [ 'geh'])\n",
    "a"
   ]
  },
  {
   "cell_type": "code",
   "execution_count": null,
   "metadata": {},
   "outputs": [],
   "source": []
  },
  {
   "cell_type": "code",
   "execution_count": 187,
   "metadata": {},
   "outputs": [
    {
     "data": {
      "text/plain": [
       "[array([[7.86866804e-06, 2.87491506e-08, 1.54940990e-05, ...,\n",
       "         1.42489805e-11, 1.18787037e-11, 1.19909733e-11]], dtype=float32),\n",
       " array([[2.6664367e-02, 4.5792625e-04, 1.1609279e-06, ..., 1.9763270e-10,\n",
       "         1.6798546e-10, 1.6205803e-10]], dtype=float32),\n",
       " array([[9.7948372e-01, 8.3463019e-06, 2.6143532e-08, ..., 1.5378759e-11,\n",
       "         1.3973919e-11, 1.7836134e-11]], dtype=float32),\n",
       " array([[9.8613495e-01, 8.9586856e-06, 4.6248432e-11, ..., 5.0200535e-16,\n",
       "         4.5589696e-16, 4.3257411e-16]], dtype=float32),\n",
       " array([[9.9997807e-01, 4.6859254e-09, 2.3359342e-16, ..., 5.5418160e-17,\n",
       "         5.1923292e-17, 5.8133142e-17]], dtype=float32)]"
      ]
     },
     "execution_count": 187,
     "metadata": {},
     "output_type": "execute_result"
    }
   ],
   "source": [
    "a = encode_output(a, ger_vocab_size)\n",
    "b = model.predict([a,s0,c0])\n",
    "b"
   ]
  },
  {
   "cell_type": "code",
   "execution_count": 179,
   "metadata": {},
   "outputs": [
    {
     "data": {
      "text/plain": [
       "['go', 'out', '']"
      ]
     },
     "execution_count": 179,
     "metadata": {},
     "output_type": "execute_result"
    }
   ],
   "source": [
    "#prediction\n",
    "\n",
    "b = predict_sequence(model, eng_tokenizer , [a,s0,c0])\n",
    "b"
   ]
  },
  {
   "cell_type": "code",
   "execution_count": null,
   "metadata": {},
   "outputs": [],
   "source": []
  }
 ],
 "metadata": {
  "kernelspec": {
   "display_name": "Python 3",
   "language": "python",
   "name": "python3"
  },
  "language_info": {
   "codemirror_mode": {
    "name": "ipython",
    "version": 3
   },
   "file_extension": ".py",
   "mimetype": "text/x-python",
   "name": "python",
   "nbconvert_exporter": "python",
   "pygments_lexer": "ipython3",
   "version": "3.6.10"
  }
 },
 "nbformat": 4,
 "nbformat_minor": 4
}
